{
 "cells": [
  {
   "cell_type": "code",
   "execution_count": 1,
   "metadata": {},
   "outputs": [],
   "source": [
    "import numpy as np"
   ]
  },
  {
   "cell_type": "markdown",
   "metadata": {},
   "source": [
    "# 1. Create a 3x3x3 array with random values "
   ]
  },
  {
   "cell_type": "code",
   "execution_count": 3,
   "metadata": {},
   "outputs": [
    {
     "name": "stdout",
     "output_type": "stream",
     "text": [
      "[[[0.6635303  0.84670358 0.33363337]\n",
      "  [0.73712007 0.56539178 0.87547335]\n",
      "  [0.84957087 0.93701963 0.51029665]]\n",
      "\n",
      " [[0.58361336 0.60972695 0.37445847]\n",
      "  [0.70127788 0.75616746 0.94912276]\n",
      "  [0.88402465 0.70365842 0.94419796]]\n",
      "\n",
      " [[0.59935946 0.24531924 0.82195024]\n",
      "  [0.88424739 0.89860655 0.91093025]\n",
      "  [0.57431041 0.92761278 0.66575837]]]\n"
     ]
    }
   ],
   "source": [
    "arr1 = np.random.random((3,3,3))\n",
    "print (arr1)"
   ]
  },
  {
   "cell_type": "markdown",
   "metadata": {},
   "source": [
    "# 2.Create a 5x5 matrix with values 1,2,3,4 just below the diagonal"
   ]
  },
  {
   "cell_type": "code",
   "execution_count": 4,
   "metadata": {},
   "outputs": [
    {
     "name": "stdout",
     "output_type": "stream",
     "text": [
      "[[0 0 0 0 0]\n",
      " [1 0 0 0 0]\n",
      " [0 2 0 0 0]\n",
      " [0 0 3 0 0]\n",
      " [0 0 0 4 0]]\n"
     ]
    }
   ],
   "source": [
    "arr2 = np.diag(1 + np.arange(4), k=-1)\n",
    "print(arr2)"
   ]
  },
  {
   "cell_type": "markdown",
   "metadata": {},
   "source": [
    "# 3.Create a 8x8 matrix and fill it with a checkerboard pattern"
   ]
  },
  {
   "cell_type": "code",
   "execution_count": 5,
   "metadata": {},
   "outputs": [
    {
     "name": "stdout",
     "output_type": "stream",
     "text": [
      "[[0 1 0 1 0 1 0 1]\n",
      " [1 0 1 0 1 0 1 0]\n",
      " [0 1 0 1 0 1 0 1]\n",
      " [1 0 1 0 1 0 1 0]\n",
      " [0 1 0 1 0 1 0 1]\n",
      " [1 0 1 0 1 0 1 0]\n",
      " [0 1 0 1 0 1 0 1]\n",
      " [1 0 1 0 1 0 1 0]]\n"
     ]
    }
   ],
   "source": [
    "arr3 = np.zeros((8,8), dtype=int)\n",
    "arr3[1::2, ::2] = 1\n",
    "arr3[::2,1::2] = 1\n",
    "print(arr3)"
   ]
  },
  {
   "cell_type": "markdown",
   "metadata": {},
   "source": [
    "# 4. Normalize a 5x5 random matrix"
   ]
  },
  {
   "cell_type": "code",
   "execution_count": 6,
   "metadata": {},
   "outputs": [
    {
     "name": "stdout",
     "output_type": "stream",
     "text": [
      "[[0.62294706 0.2342347  1.         0.37708172 0.77963746]\n",
      " [0.36885147 0.99391115 0.56415591 0.19584343 0.45907109]\n",
      " [0.61078942 0.5289359  0.08281014 0.44634489 0.01173224]\n",
      " [0.27905707 0.69703448 0.3678969  0.         0.39694791]\n",
      " [0.68505525 0.03955238 0.73623544 0.97812533 0.96148248]]\n"
     ]
    }
   ],
   "source": [
    "arr4 = np.random.random((5,5))\n",
    "\n",
    "arr4max, arr4min = arr4.max(), arr4.min()\n",
    "\n",
    "arr4 = (arr4 - arr4min)/(arr4max - arr4min)\n",
    "\n",
    "print(arr4)"
   ]
  },
  {
   "cell_type": "markdown",
   "metadata": {},
   "source": [
    "# 5.  How to find common values between two arrays?"
   ]
  },
  {
   "cell_type": "code",
   "execution_count": 9,
   "metadata": {},
   "outputs": [
    {
     "name": "stdout",
     "output_type": "stream",
     "text": [
      "[4 0 1 3 3 4 2 7 6 9]\n",
      "[1 0 5 3 6 8 8 1 3 5]\n",
      "[0 1 3 6]\n"
     ]
    }
   ],
   "source": [
    "a1 = np.random.randint(0,10,10)\n",
    "print(a1)\n",
    "a2 = np.random.randint(0,10,10)\n",
    "print(a2)\n",
    "\n",
    "print(np.intersect1d(a1,a2))"
   ]
  },
  {
   "cell_type": "markdown",
   "metadata": {},
   "source": [
    "# 6.How to get the dates of yesterday, today and tomorrow?"
   ]
  },
  {
   "cell_type": "code",
   "execution_count": 11,
   "metadata": {},
   "outputs": [
    {
     "name": "stdout",
     "output_type": "stream",
     "text": [
      "2020-07-25\n",
      "2020-07-26\n",
      "2020-07-27\n"
     ]
    }
   ],
   "source": [
    "yesterday = np.datetime64('today', 'D') - np.timedelta64(1, 'D')\n",
    "print(yesterday)\n",
    "today = np.datetime64('today', 'D')\n",
    "print(today)\n",
    "tomorrow = np.datetime64('today', 'D') + np.timedelta64(1, 'D')\n",
    "print(tomorrow)"
   ]
  },
  {
   "cell_type": "markdown",
   "metadata": {},
   "source": [
    "# 7. Consider two random array A and B, check if they are equal"
   ]
  },
  {
   "cell_type": "code",
   "execution_count": 19,
   "metadata": {},
   "outputs": [
    {
     "name": "stdout",
     "output_type": "stream",
     "text": [
      "A: [1 1 0 0 1]\n",
      "B: [0 0 0 1 1]\n",
      "False\n",
      "False\n"
     ]
    }
   ],
   "source": [
    "A = np.random.randint(0,2,5)\n",
    "print('A:',A)\n",
    "B = np.random.randint(0,2,5)\n",
    "print('B:',B)\n",
    "\n",
    "# Assuming identical shape of the arrays and a tolerance for the comparison of values\n",
    "\n",
    "equal = np.allclose(A,B)\n",
    "\n",
    "print(equal)\n",
    "\n",
    "# Checking both the shape and the element values, no tolerance (values have to be exactly equal)\n",
    "\n",
    "equal = np.array_equal(A,B)\n",
    "\n",
    "print(equal)"
   ]
  },
  {
   "cell_type": "markdown",
   "metadata": {},
   "source": [
    "# 8.Create random vector of size 10 and replace the maximum value by 0 "
   ]
  },
  {
   "cell_type": "code",
   "execution_count": 20,
   "metadata": {},
   "outputs": [
    {
     "name": "stdout",
     "output_type": "stream",
     "text": [
      "[0.47570961 0.34485254 0.27736547 0.46251666 0.54017435 0.26019869\n",
      " 0.52279449 0.         0.58224119 0.58487625]\n"
     ]
    }
   ],
   "source": [
    "arr5 = np.random.random(10)\n",
    "\n",
    "arr5[arr5.argmax()] = 0\n",
    "\n",
    "print(arr5)"
   ]
  },
  {
   "cell_type": "markdown",
   "metadata": {},
   "source": [
    "# 9. How to print all the values of an array?"
   ]
  },
  {
   "cell_type": "code",
   "execution_count": null,
   "metadata": {},
   "outputs": [],
   "source": []
  },
  {
   "cell_type": "markdown",
   "metadata": {},
   "source": [
    "# 10.Subtract the mean of each row of a matrix"
   ]
  },
  {
   "cell_type": "code",
   "execution_count": 35,
   "metadata": {},
   "outputs": [
    {
     "name": "stdout",
     "output_type": "stream",
     "text": [
      "[[-0.09577865  0.38125617 -0.19037701 -0.07377079 -0.28586245  0.23529816\n",
      "  -0.22553101 -0.15896405  0.38633622  0.02739341]\n",
      " [ 0.40895739  0.13499402 -0.43229518  0.21815497  0.15863128 -0.19354105\n",
      "  -0.31594474 -0.45759669  0.0883406   0.3902994 ]\n",
      " [-0.12155869 -0.04966586  0.22032394 -0.19831189  0.21758648 -0.03080135\n",
      "  -0.64357538  0.05041365  0.29157946  0.26400964]\n",
      " [-0.41761061 -0.21143882 -0.16096743  0.10843799 -0.30048269  0.34198434\n",
      "   0.15134084 -0.17037692  0.35423613  0.30487716]\n",
      " [-0.47018994 -0.02441428 -0.42530406 -0.3609018   0.38507234  0.04912857\n",
      "   0.45644262  0.24120905  0.03667262  0.11228489]]\n"
     ]
    }
   ],
   "source": [
    "arr6 = np.random.rand(5, 10)\n",
    "arr7 = arr6 - arr6.mean(axis = 1, keepdims = True)\n",
    "print(arr7)"
   ]
  },
  {
   "cell_type": "markdown",
   "metadata": {},
   "source": [
    "# 11.Consider a given vector, how to add 1 to each element indexed by a second vector (be careful with repeated indices)? "
   ]
  },
  {
   "cell_type": "code",
   "execution_count": 42,
   "metadata": {},
   "outputs": [
    {
     "name": "stdout",
     "output_type": "stream",
     "text": [
      "[1. 1. 1. 1. 1. 1. 1. 1. 1. 1.]\n",
      "[0 6 6 7 5 6 5 2 9 2 1 7 9 8 8 3 2 3 9 4]\n",
      "[2. 2. 4. 3. 2. 3. 4. 3. 3. 4.]\n"
     ]
    }
   ],
   "source": [
    "a = np.ones(10)\n",
    "print(a)\n",
    "b = np.random.randint(0,len(a),20)\n",
    "print(b)\n",
    "a += np.bincount(b, minlength=len(a))\n",
    "print(a)"
   ]
  },
  {
   "cell_type": "markdown",
   "metadata": {},
   "source": [
    "# 12.How to get the diagonal of a dot product?"
   ]
  },
  {
   "cell_type": "code",
   "execution_count": 44,
   "metadata": {},
   "outputs": [
    {
     "name": "stdout",
     "output_type": "stream",
     "text": [
      "[0.75843822 1.21127741 1.40800065 1.14977644 1.09903639]\n"
     ]
    }
   ],
   "source": [
    "arr_1 = np.random.uniform(0,1,(5,5))\n",
    "\n",
    "arr_2 = np.random.uniform(0,1,(5,5))\n",
    "\n",
    "print(np.einsum(\"ij,ji->i\", arr_1, arr_2))"
   ]
  },
  {
   "cell_type": "markdown",
   "metadata": {},
   "source": [
    "# 13.How to find the most frequent value in an array?"
   ]
  },
  {
   "cell_type": "code",
   "execution_count": 46,
   "metadata": {},
   "outputs": [
    {
     "name": "stdout",
     "output_type": "stream",
     "text": [
      "[2 4 2 2 8 9 7 9 6 6 3 2 2 3 4 0 2 5 7 0 3 7 5 1 2 4 9 8 6 5 1 3 1 0 5 2 2\n",
      " 2 0 5 8 8 3 2 0 3 3 9 0 3]\n",
      "2\n"
     ]
    }
   ],
   "source": [
    "arr_3 = np.random.randint(0,10,50)\n",
    "print(arr_3)\n",
    "print(np.bincount(arr_3).argmax())"
   ]
  },
  {
   "cell_type": "markdown",
   "metadata": {},
   "source": [
    "# 14.How to get the n largest values of an array"
   ]
  },
  {
   "cell_type": "code",
   "execution_count": 51,
   "metadata": {},
   "outputs": [
    {
     "name": "stdout",
     "output_type": "stream",
     "text": [
      "[93 94 95 96 97 98 99]\n"
     ]
    }
   ],
   "source": [
    "arr_4 = np.arange(100)\n",
    "np.random.shuffle(arr_4)\n",
    "n = 7\n",
    "print (arr_4[np.argsort(arr_4)[-n:]])"
   ]
  },
  {
   "cell_type": "markdown",
   "metadata": {},
   "source": [
    "# 15.How to create a record array from a regular array?"
   ]
  },
  {
   "cell_type": "code",
   "execution_count": 52,
   "metadata": {},
   "outputs": [
    {
     "name": "stdout",
     "output_type": "stream",
     "text": [
      "[(b'Hello', 2.5, 3) (b'World', 3.6, 2)]\n"
     ]
    }
   ],
   "source": [
    "Z = np.array([(\"Hello\", 2.5, 3),\n",
    "\n",
    "(\"World\", 3.6, 2)])\n",
    "\n",
    "R = np.core.records.fromarrays(Z.T,\n",
    "\n",
    "names='col1, col2, col3',\n",
    "\n",
    "formats = 'S8, f8, i8')\n",
    "\n",
    "print(R)"
   ]
  },
  {
   "cell_type": "code",
   "execution_count": null,
   "metadata": {},
   "outputs": [],
   "source": []
  }
 ],
 "metadata": {
  "kernelspec": {
   "display_name": "Python 3",
   "language": "python",
   "name": "python3"
  },
  "language_info": {
   "codemirror_mode": {
    "name": "ipython",
    "version": 3
   },
   "file_extension": ".py",
   "mimetype": "text/x-python",
   "name": "python",
   "nbconvert_exporter": "python",
   "pygments_lexer": "ipython3",
   "version": "3.7.6"
  }
 },
 "nbformat": 4,
 "nbformat_minor": 2
}
