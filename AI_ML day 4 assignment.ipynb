{
 "cells": [
  {
   "cell_type": "markdown",
   "metadata": {},
   "source": [
    "# Question 1\n",
    "\n",
    "Research on whether addition, subtraction, multiplication, division, floor division and modulo operations be performed on complex numbers. Based on your study, implement a Python program to demonstrate these operations."
   ]
  },
  {
   "cell_type": "markdown",
   "metadata": {},
   "source": [
    "__Answer__\n",
    "\n",
    "In python, we can perform addition, subtraction, multiplication and division 2 complex numbers but we cannot perform floor division and modulo operations. \n",
    " \n",
    " Complex numbers are numbers with a real and imaginary part. They're only worth noting here because neither modulo nor floor division can accept a complex number as an operand. Trying to use a complex number for __floor division or modulo operations__ will raise a __TypeError.__"
   ]
  },
  {
   "cell_type": "code",
   "execution_count": 3,
   "metadata": {},
   "outputs": [
    {
     "name": "stdout",
     "output_type": "stream",
     "text": [
      "Enter 2 complex numbers: \n",
      "1+4j\n",
      "6+2j\n",
      "Addition:  (7+6j)\n",
      "Subtraction:  (-5+2j)\n",
      "Multiplication:  (-2+26j)\n",
      "Division:  (0.3499999999999999+0.5499999999999999j)\n"
     ]
    }
   ],
   "source": [
    "# Program to demonstrate addition, subtraction, multiplication and division operation on complex numbers.\n",
    "\n",
    "print(\"Enter 2 complex numbers: \")\n",
    "c1 = complex(input())\n",
    "c2 = complex(input())\n",
    "\n",
    "print(\"Addition: \", c1+c2)\n",
    "print(\"Subtraction: \", c1-c2)\n",
    "print(\"Multiplication: \", c1*c2)\n",
    "print(\"Division: \", c1/c2)"
   ]
  },
  {
   "attachments": {},
   "cell_type": "markdown",
   "metadata": {},
   "source": [
    "# Question 2 \n",
    "\n",
    "Research on range() functions and its parameters. Create a markdown cell and write in your own words (no copy-paste from google please) what you understand about it. Implement a small program of your choice on the same."
   ]
  },
  {
   "cell_type": "markdown",
   "metadata": {},
   "source": [
    "__Answer__\n",
    "\n",
    "The __range()__ function in python returns a list of numbers described in it. By default, the list starts with 0, incremented by 1 and ends at the specified number.\n",
    "\n",
    "__Syntax:__ range(start, stop, step)\n",
    "\n",
    "There are 3 parameters of range() funtion:\n",
    " - start\n",
    " - stop\n",
    " - step\n",
    " \n",
    "1. __start:__  \n",
    "    - It specifies the number that identifies from where to start. \n",
    "    - It is optional to use.\n",
    "    -  By default value of start is 0\n",
    "2. __stop:__\n",
    "    - It specifies the number that identifies where to end.\n",
    "    - It is complusory to use.\n",
    "3. __step:__\n",
    "    - It specifies the number that identifies how much increment to take after each number \n",
    "    - It is optional to use.\n",
    "    - By default value of increment is 1"
   ]
  },
  {
   "cell_type": "code",
   "execution_count": 5,
   "metadata": {},
   "outputs": [
    {
     "name": "stdout",
     "output_type": "stream",
     "text": [
      "0\n",
      "1\n",
      "2\n",
      "3\n",
      "4\n"
     ]
    }
   ],
   "source": [
    "# Program to demonstrate the use of range() function and its parameters\n",
    "\n",
    "# using only stop parameter\n",
    "x = range(5)\n",
    "for i in x:\n",
    "    print(i)"
   ]
  },
  {
   "cell_type": "code",
   "execution_count": 7,
   "metadata": {},
   "outputs": [
    {
     "name": "stdout",
     "output_type": "stream",
     "text": [
      "1\n",
      "2\n",
      "3\n",
      "4\n",
      "5\n"
     ]
    }
   ],
   "source": [
    "# using start and stop parameters\n",
    "\n",
    "x = range(1,6)\n",
    "for i in x:\n",
    "    print(i)"
   ]
  },
  {
   "cell_type": "code",
   "execution_count": 10,
   "metadata": {},
   "outputs": [
    {
     "name": "stdout",
     "output_type": "stream",
     "text": [
      "2\n",
      "4\n",
      "6\n",
      "8\n",
      "10\n"
     ]
    }
   ],
   "source": [
    "# using all the parameters\n",
    "\n",
    "for i in range(2,11,2):\n",
    "    print(i)"
   ]
  },
  {
   "cell_type": "markdown",
   "metadata": {},
   "source": [
    "# Question 3\n",
    "\n",
    "Consider two numbers. Perform their subtraction and if the result of subtraction is greater than 25, print their multiplication result else print their division result."
   ]
  },
  {
   "cell_type": "code",
   "execution_count": 13,
   "metadata": {},
   "outputs": [
    {
     "name": "stdout",
     "output_type": "stream",
     "text": [
      "Enter two numbers: \n",
      "100\n",
      "3\n",
      "Subtraction: 97\n",
      "Multiplication:  300\n"
     ]
    }
   ],
   "source": [
    "print(\"Enter two numbers: \")\n",
    "a = int(input())\n",
    "b = int(input())\n",
    "print(\"Subtraction:\", a-b)\n",
    "\n",
    "if a-b > 25:\n",
    "    print(\"Multiplication: \", a*b)\n",
    "else:\n",
    "    print(\"Division:\", a/b)"
   ]
  },
  {
   "cell_type": "markdown",
   "metadata": {},
   "source": [
    "# Question 4\n",
    "\n",
    "Consider a list of 10 elements of integer values. If the number in the list is divisible by 2, print the result as \"square of that number minus 2\"."
   ]
  },
  {
   "cell_type": "code",
   "execution_count": 14,
   "metadata": {},
   "outputs": [
    {
     "name": "stdout",
     "output_type": "stream",
     "text": [
      "Result:  2\n",
      "Result:  14\n",
      "Result:  34\n",
      "Result:  62\n",
      "Result:  98\n"
     ]
    }
   ],
   "source": [
    "lst = [1,2,3,4,5,6,7,8,9,10]\n",
    "\n",
    "for i in lst:\n",
    "    if i % 2 == 0:\n",
    "        print(\"Result: \", (i**2)-2)"
   ]
  },
  {
   "cell_type": "markdown",
   "metadata": {},
   "source": [
    "# Question 5\n",
    "\n",
    "Consider a list of 10 elements. Print all the elements in the list which are greater than 7 when that number is divided 2."
   ]
  },
  {
   "cell_type": "code",
   "execution_count": 16,
   "metadata": {},
   "outputs": [
    {
     "name": "stdout",
     "output_type": "stream",
     "text": [
      "16\n",
      "18\n",
      "20\n"
     ]
    }
   ],
   "source": [
    "l = [2,4,6,8,10,12,14,16,18,20]\n",
    "\n",
    "for i in l:\n",
    "    if i/2 > 7:\n",
    "        print(i) "
   ]
  },
  {
   "cell_type": "code",
   "execution_count": null,
   "metadata": {},
   "outputs": [],
   "source": []
  }
 ],
 "metadata": {
  "kernelspec": {
   "display_name": "Python 3",
   "language": "python",
   "name": "python3"
  },
  "language_info": {
   "codemirror_mode": {
    "name": "ipython",
    "version": 3
   },
   "file_extension": ".py",
   "mimetype": "text/x-python",
   "name": "python",
   "nbconvert_exporter": "python",
   "pygments_lexer": "ipython3",
   "version": "3.7.6"
  }
 },
 "nbformat": 4,
 "nbformat_minor": 4
}
