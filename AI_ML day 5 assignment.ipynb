{
 "cells": [
  {
   "cell_type": "markdown",
   "metadata": {},
   "source": [
    "# Question 1 \n",
    "\n",
    "Write a Python program to find the first 20 non-even prime natural numbers."
   ]
  },
  {
   "cell_type": "code",
   "execution_count": 1,
   "metadata": {},
   "outputs": [
    {
     "name": "stdout",
     "output_type": "stream",
     "text": [
      "3 5 7 11 13 17 19 23 29 31 37 41 43 47 53 59 61 67 71 73 "
     ]
    }
   ],
   "source": [
    "count = 0\n",
    "i = 1\n",
    "while count < 20:\n",
    "    i = i + 1\n",
    "#for i in range(1,75):\n",
    "    if i > 1:\n",
    "        for j in range(2, i):\n",
    "            if i % j == 0: \n",
    "                break\n",
    "        else:\n",
    "            if i % 2 == 0:\n",
    "                continue\n",
    "            else:\n",
    "                print(i, end =\" \")\n",
    "                count = count  + 1"
   ]
  },
  {
   "cell_type": "markdown",
   "metadata": {},
   "source": [
    "# Question 2 \n",
    "\n",
    "Write a Python program to implement 15 functions of string."
   ]
  },
  {
   "cell_type": "code",
   "execution_count": 2,
   "metadata": {},
   "outputs": [
    {
     "name": "stdout",
     "output_type": "stream",
     "text": [
      "Capitalization of string: Dhwani\n",
      "Alpha numeric: True\n",
      "Finding position of a character: 3\n",
      "Gives index of a string: 0\n",
      "Is string decimal: False\n",
      "Is string in lowercase: True\n",
      "Replacing a charater: dhwanu\n",
      "Checks whether string is ending with a given character: False\n",
      "Case folding a string: trivedi\n",
      "Spliting a string into 2 strings: ['dh', 'ani']\n",
      "Checks whether the string is in uppercase: True\n",
      "Swaps the case of the string:  jIgNESH\n",
      "Checks whether the string is empty or not: False\n",
      "Counts the number of occurence of the character in the string: 2\n",
      "Checks whether the string is a title or not: False\n"
     ]
    }
   ],
   "source": [
    "st = 'dhwani'\n",
    "st1 = 'TRIVEDI'\n",
    "st2 = 'JiGnesh'\n",
    "# 15 Functions of string\n",
    "\n",
    "print(\"Capitalization of string:\",st.capitalize())\n",
    "print(\"Alpha numeric:\",st.isalnum())\n",
    "print(\"Finding position of a character:\",st.find('a'))\n",
    "print(\"Gives index of a string:\",st.index('d'))\n",
    "print(\"Is string decimal:\",st.isdecimal())\n",
    "print(\"Is string in lowercase:\",st.islower())\n",
    "print(\"Replacing a charater:\",st.replace('i','u'))\n",
    "print(\"Checks whether string is ending with a given character:\",st.endswith('a'))\n",
    "print(\"Case folding a string:\",st1.casefold())\n",
    "print(\"Spliting a string into 2 strings:\",st.split('w'))\n",
    "print(\"Checks whether the string is in uppercase:\", st1.isupper())\n",
    "print(\"Swaps the case of the string: \",st2.swapcase())\n",
    "print(\"Checks whether the string is empty or not:\",st.isspace())\n",
    "print(\"Counts the number of occurence of the character in the string:\",st1.count('I'))\n",
    "print(\"Checks whether the string is a title or not:\",st.istitle())"
   ]
  },
  {
   "cell_type": "markdown",
   "metadata": {},
   "source": [
    "# Question 3\n",
    "\n",
    "Write a Python program to check if the given string is a Palindrome or Anagram or None of them.\n",
    "Display the message accordingly to the user."
   ]
  },
  {
   "cell_type": "code",
   "execution_count": 3,
   "metadata": {},
   "outputs": [
    {
     "name": "stdout",
     "output_type": "stream",
     "text": [
      "Enter a string: mom \n",
      "Enter another string: sis\n",
      "Strings are neither anagram nor palindrome\n"
     ]
    }
   ],
   "source": [
    "st1 = input(\"Enter a string: \")\n",
    "st2 = input(\"Enter another string: \")\n",
    "\n",
    "if (sorted(st1) == sorted(st2) and st1 == st1[::-1]):\n",
    "    print(\"String 1 is palindrome\")\n",
    "    print(\"Both strings are anagram\")\n",
    "\n",
    "elif (sorted(st1) == sorted(st2) or st1 == st1[::-1]):\n",
    "    if(sorted(st1) == sorted(st2)):\n",
    "        print(\"String 1 is not palindrome\")\n",
    "        print(\"Both strings are anagram\")\n",
    "        \n",
    "    else:\n",
    "        print(\"String 1 is palindrome\")\n",
    "        print(\"Both strings are not anagram\")\n",
    "else:\n",
    "    print(\"Strings are neither anagram nor palindrome\")"
   ]
  },
  {
   "cell_type": "markdown",
   "metadata": {},
   "source": [
    "# Question 4\n",
    "\n",
    "Write a Python's user defined function that removes all the additional characters from the string and converts it finally to lower case using built-in lower(). eg: If the string is \"Dr. Darshan Ingle @AI-ML Trainer\", then the output be \"drdarshaningleaimltrainer\"."
   ]
  },
  {
   "cell_type": "code",
   "execution_count": 4,
   "metadata": {},
   "outputs": [
    {
     "name": "stdout",
     "output_type": "stream",
     "text": [
      "Enter a string: Dr. Darshan Ingle @AI-ML Trainer\n",
      "drdarshaningleaimltrainer\n"
     ]
    }
   ],
   "source": [
    "s = input(\"Enter a string: \")\n",
    "\n",
    "def remove_char(st):\n",
    "    unwanted_char = ['@', ' ', '-', ';', ':', '.']\n",
    "    for i in unwanted_char:\n",
    "        st = st.replace(i,'')\n",
    "    return st\n",
    "s1 = remove_char(s)\n",
    "print(s1.lower())"
   ]
  },
  {
   "cell_type": "code",
   "execution_count": null,
   "metadata": {},
   "outputs": [],
   "source": []
  }
 ],
 "metadata": {
  "kernelspec": {
   "display_name": "Python 3",
   "language": "python",
   "name": "python3"
  },
  "language_info": {
   "codemirror_mode": {
    "name": "ipython",
    "version": 3
   },
   "file_extension": ".py",
   "mimetype": "text/x-python",
   "name": "python",
   "nbconvert_exporter": "python",
   "pygments_lexer": "ipython3",
   "version": "3.7.6"
  }
 },
 "nbformat": 4,
 "nbformat_minor": 4
}
