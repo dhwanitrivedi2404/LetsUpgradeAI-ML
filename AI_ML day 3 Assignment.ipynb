{
 "cells": [
  {
   "cell_type": "markdown",
   "metadata": {},
   "source": [
    "# Question 1\n",
    "\n",
    "Write a program to subtract two complex numbers in Python."
   ]
  },
  {
   "cell_type": "code",
   "execution_count": 1,
   "metadata": {},
   "outputs": [
    {
     "name": "stdout",
     "output_type": "stream",
     "text": [
      "Enter two complex numbers in the form a+bj:\n",
      "1+3j\n",
      "4+9j\n",
      "sum = (5+12j)\n"
     ]
    }
   ],
   "source": [
    "print(\"Enter two complex numbers in the form a+bj:\")\n",
    "n1 = complex(input())\n",
    "n2 = complex(input())\n",
    "print(\"sum =\", n1 + n2)"
   ]
  },
  {
   "cell_type": "markdown",
   "metadata": {},
   "source": [
    "# Question 2\n",
    "\n",
    "Write a program to find the fourth root of a number."
   ]
  },
  {
   "cell_type": "code",
   "execution_count": 4,
   "metadata": {},
   "outputs": [
    {
     "name": "stdout",
     "output_type": "stream",
     "text": [
      "Enter a number: \n",
      "16\n",
      "4th root of the number is:  2.0\n"
     ]
    }
   ],
   "source": [
    "# Method 1\n",
    "\n",
    "print(\"Enter a number: \")\n",
    "a = int(input())\n",
    "\n",
    "print(\"4th root of the number is: \", pow(a,0.25))"
   ]
  },
  {
   "cell_type": "code",
   "execution_count": 5,
   "metadata": {},
   "outputs": [
    {
     "name": "stdout",
     "output_type": "stream",
     "text": [
      "Enter a number: \n",
      "16\n",
      "4th root of the number is:  2.0\n"
     ]
    }
   ],
   "source": [
    "# Method 2\n",
    "\n",
    "import math as m\n",
    "print(\"Enter a number: \")\n",
    "a = int(input())\n",
    "\n",
    "print(\"4th root of the number is: \", m.sqrt(m.sqrt(a)))"
   ]
  },
  {
   "cell_type": "markdown",
   "metadata": {},
   "source": [
    "# Question 3\n",
    "\n",
    "Write a program to swap two numbers in Python with the help of a temporary variable."
   ]
  },
  {
   "cell_type": "code",
   "execution_count": 6,
   "metadata": {},
   "outputs": [
    {
     "name": "stdout",
     "output_type": "stream",
     "text": [
      "Enter 2 numbers: \n",
      "3\n",
      "5\n",
      "Swaping 2 numbers using temp variable:\n",
      "x = 5\n",
      "y = 3\n"
     ]
    }
   ],
   "source": [
    "print(\"Enter 2 numbers: \")\n",
    "x = int(input())\n",
    "y = int(input())\n",
    "\n",
    "temp = x\n",
    "x = y\n",
    "y = temp\n",
    "\n",
    "print(\"Swaping 2 numbers using temp variable:\")\n",
    "print(\"x =\", x)\n",
    "print(\"y =\", y)"
   ]
  },
  {
   "cell_type": "markdown",
   "metadata": {},
   "source": [
    "# Question 4\n",
    "\n",
    "Write a program to swap two numbers in Python without using a temporary variable."
   ]
  },
  {
   "cell_type": "code",
   "execution_count": 7,
   "metadata": {},
   "outputs": [
    {
     "name": "stdout",
     "output_type": "stream",
     "text": [
      "Enter 2 numbers: \n",
      "2\n",
      "3\n",
      "Swaping 2 numbers without using temp variable:\n",
      "x = 3\n",
      "y = 2\n"
     ]
    }
   ],
   "source": [
    "print(\"Enter 2 numbers: \")\n",
    "x = int(input())\n",
    "y = int(input())\n",
    "\n",
    "y = x + y \n",
    "x = y - x\n",
    "y = y - x\n",
    "\n",
    "print(\"Swaping 2 numbers without using temp variable:\")\n",
    "print(\"x =\", x)\n",
    "print(\"y =\", y)"
   ]
  },
  {
   "cell_type": "markdown",
   "metadata": {},
   "source": [
    "# Ouestion 5\n",
    "\n",
    "Write a program to convert fahrenheit to kelvin and celsius both."
   ]
  },
  {
   "cell_type": "code",
   "execution_count": 8,
   "metadata": {},
   "outputs": [
    {
     "name": "stdout",
     "output_type": "stream",
     "text": [
      "Enter a temperature in fahrenheit: \n",
      "32\n",
      "Fahrenheit to Celsius:  0.0\n",
      "Fahrenheit to Kelvin:  273.15\n"
     ]
    }
   ],
   "source": [
    "print(\"Enter a temperature in fahrenheit: \")\n",
    "f = float(input())\n",
    "\n",
    "c = (f - 32) * 5 / 9\n",
    "k = (f - 32) * 5 / 9 + 273.15\n",
    "\n",
    "print(\"Fahrenheit to Celsius: \", c)\n",
    "print(\"Fahrenheit to Kelvin: \", k)"
   ]
  },
  {
   "cell_type": "markdown",
   "metadata": {},
   "source": [
    "# Question 6\n",
    "\n",
    "Write a program to demonstrate all the available data types in Python. Hint: Use type() function."
   ]
  },
  {
   "cell_type": "code",
   "execution_count": 20,
   "metadata": {},
   "outputs": [
    {
     "data": {
      "text/plain": [
       "int"
      ]
     },
     "execution_count": 20,
     "metadata": {},
     "output_type": "execute_result"
    }
   ],
   "source": [
    "# int\n",
    "a = 10\n",
    "type(a)"
   ]
  },
  {
   "cell_type": "code",
   "execution_count": 12,
   "metadata": {},
   "outputs": [
    {
     "data": {
      "text/plain": [
       "float"
      ]
     },
     "execution_count": 12,
     "metadata": {},
     "output_type": "execute_result"
    }
   ],
   "source": [
    "# float\n",
    "b = 25.5\n",
    "type(b)"
   ]
  },
  {
   "cell_type": "code",
   "execution_count": 14,
   "metadata": {},
   "outputs": [
    {
     "data": {
      "text/plain": [
       "str"
      ]
     },
     "execution_count": 14,
     "metadata": {},
     "output_type": "execute_result"
    }
   ],
   "source": [
    "# string \n",
    "string = \"Hello, Welcome to the class of AI/ML\"\n",
    "type(string)"
   ]
  },
  {
   "cell_type": "code",
   "execution_count": 15,
   "metadata": {},
   "outputs": [
    {
     "data": {
      "text/plain": [
       "list"
      ]
     },
     "execution_count": 15,
     "metadata": {},
     "output_type": "execute_result"
    }
   ],
   "source": [
    "# list\n",
    "lst = [1, 'Python Basics', 'Introduction to AI', 'Introduction to ML', 400.5]\n",
    "type(lst)"
   ]
  },
  {
   "cell_type": "code",
   "execution_count": 16,
   "metadata": {},
   "outputs": [
    {
     "data": {
      "text/plain": [
       "dict"
      ]
     },
     "execution_count": 16,
     "metadata": {},
     "output_type": "execute_result"
    }
   ],
   "source": [
    "# dictionary\n",
    "dit = {'name': 'LetsUpgrade AI/ML', 'faculty_name':'Darshan Sir', 'topic':'Introduction to AI/ML'}\n",
    "type(dit)"
   ]
  },
  {
   "cell_type": "code",
   "execution_count": 17,
   "metadata": {},
   "outputs": [
    {
     "data": {
      "text/plain": [
       "set"
      ]
     },
     "execution_count": 17,
     "metadata": {},
     "output_type": "execute_result"
    }
   ],
   "source": [
    "# set\n",
    "s = {0,2,4,6,8,10}\n",
    "type(s)"
   ]
  },
  {
   "cell_type": "code",
   "execution_count": 18,
   "metadata": {},
   "outputs": [
    {
     "data": {
      "text/plain": [
       "tuple"
      ]
     },
     "execution_count": 18,
     "metadata": {},
     "output_type": "execute_result"
    }
   ],
   "source": [
    "# tuple\n",
    "tup = ('Odd numbers',1,3,5,7)\n",
    "type(tup)"
   ]
  },
  {
   "cell_type": "code",
   "execution_count": 22,
   "metadata": {},
   "outputs": [
    {
     "name": "stdout",
     "output_type": "stream",
     "text": [
      "True\n"
     ]
    }
   ],
   "source": [
    "#boolean\n",
    "print(10 > 9)"
   ]
  },
  {
   "cell_type": "code",
   "execution_count": 21,
   "metadata": {},
   "outputs": [
    {
     "data": {
      "text/plain": [
       "complex"
      ]
     },
     "execution_count": 21,
     "metadata": {},
     "output_type": "execute_result"
    }
   ],
   "source": [
    "#complex\n",
    "c = 1 + 4j\n",
    "type(c)"
   ]
  },
  {
   "cell_type": "markdown",
   "metadata": {},
   "source": [
    "# Question 7\n",
    "\n",
    "Create a Markdown cell in jupyter and list the steps discussed in the session by Dr. Darshan Ingle sir to create Github profile and upload Githubs Assignment link."
   ]
  },
  {
   "cell_type": "markdown",
   "metadata": {},
   "source": [
    "1. Create project/assignment folder in your local machine\n",
    "\n",
    "2. Load the github url and Create a profile(if you dont have one, create one by signing up with your existing gmail account)\n",
    "\n",
    "3. Click on New button\n",
    "\n",
    "4. Name the repository as LetsUpgrade AI-ML\n",
    "\n",
    "5. Upload your project/assignment folder by drag-drop option\n",
    "\n",
    "6. CLick on commit changes\n",
    "\n",
    "7. Open the LetsUpgrade project/assignment submission form(upgrade team will upload the drive link)\n",
    "\n",
    "8. fill the email, and other required fields\n",
    "\n",
    "9. Copy paste the github url where you uploaded the project/assignment folder in your github\n",
    "\n",
    "10. Click on submit."
   ]
  },
  {
   "cell_type": "code",
   "execution_count": null,
   "metadata": {},
   "outputs": [],
   "source": []
  }
 ],
 "metadata": {
  "kernelspec": {
   "display_name": "Python 3",
   "language": "python",
   "name": "python3"
  },
  "language_info": {
   "codemirror_mode": {
    "name": "ipython",
    "version": 3
   },
   "file_extension": ".py",
   "mimetype": "text/x-python",
   "name": "python",
   "nbconvert_exporter": "python",
   "pygments_lexer": "ipython3",
   "version": "3.7.6"
  }
 },
 "nbformat": 4,
 "nbformat_minor": 4
}
